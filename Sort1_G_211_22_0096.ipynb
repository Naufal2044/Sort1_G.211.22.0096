{
  "nbformat": 4,
  "nbformat_minor": 0,
  "metadata": {
    "colab": {
      "provenance": []
    },
    "kernelspec": {
      "name": "python3",
      "display_name": "Python 3"
    },
    "language_info": {
      "name": "python"
    }
  },
  "cells": [
    {
      "cell_type": "code",
      "execution_count": 6,
      "metadata": {
        "id": "ZtClt8NUnpH3"
      },
      "outputs": [],
      "source": [
        "# Fungsi Bubble Sort untuk mengurutkan sebuah array.\n",
        "def bubbleSort(arr):\n",
        "# Menentukan panjang array.\n",
        " n = len(arr)\n",
        "\n",
        " # Inisialisasi variabel untuk menandai apakah ada pertukaran nilai yang terjadi pada iterasi saat ini.\n",
        " swapped = False\n",
        "\n",
        "# Loop eksternal untuk iterasi sebanyak (panjang array - 1) kali.\n",
        " for i in range(n-1):\n",
        "# Loop internal untuk membandingkan elemen-elemen berdekatan dan menukar jika diperlukan.\n",
        "  for j in range(0, n-i-1):\n",
        "# Membandingkan elemen saat ini dengan elemen berikutnya.\n",
        "    if arr[j] > arr[j + 1]:\n",
        "# Menandai bahwa terjadi pertukaran nilai.\n",
        "      swapped = True\n",
        "# Melakukan pertukaran elemen menggunakan pendekatan \"swap\" Python.\n",
        "      arr[j], arr[j + 1] = arr[j + 1], arr[j]"
      ]
    },
    {
      "cell_type": "code",
      "source": [
        "# Definisikan array yang akan diurutkan.\n",
        "arr = [13, 27, 33, 48, 47, 29, 76, 56]\n",
        "\n",
        "# Panggil fungsi bubbleSort untuk mengurutkan array.\n",
        "bubbleSort(arr)\n",
        "\n",
        "# Cetak pesan bahwa array yang sudah diurutkan akan ditampilkan.\n",
        "print(\"Sorted array is:\")\n",
        "\n",
        "# Loop untuk mencetak setiap elemen dari array yang sudah diurutkan.\n",
        "for i in range(len(arr)):\n",
        " print(\"% d\" % arr[i], end=\" \")"
      ],
      "metadata": {
        "colab": {
          "base_uri": "https://localhost:8080/"
        },
        "id": "I0pXQVzZoPEG",
        "outputId": "ea737fb3-99b4-4cbf-819a-49887fe1721a"
      },
      "execution_count": 7,
      "outputs": [
        {
          "output_type": "stream",
          "name": "stdout",
          "text": [
            "Sorted array is:\n",
            " 13  27  29  33  47  48  56  76 "
          ]
        }
      ]
    },
    {
      "cell_type": "code",
      "source": [
        "# Import modul sys yang tidak digunakan dalam implementasi ini.\n",
        "import sys\n",
        "\n",
        "# Inisialisasi array yang akan diurutkan.\n",
        "A = [75, 25, 35, 45, 55]\n",
        "\n",
        "# Iterasi melalui setiap elemen array untuk proses seleksi dan pengurutan.\n",
        "for i in range(len(A)):\n",
        "  # Menandai indeks minimum untuk iterasi saat ini.\n",
        "  min_idx = i\n",
        "\n",
        "  # Loop untuk mencari nilai minimum di antara elemen yang belum diurutkan.\n",
        "  for j in range(i+1, len(A)):\n",
        "   if A[min_idx] > A[j]:\n",
        "    # Memperbarui indeks minimum jika ditemukan nilai yang lebih kecil.\n",
        "    min_idx = j\n",
        "\n",
        "  # Menukar nilai minimum dengan elemen pertama yang belum diurutkan.\n",
        "  A[i], A[min_idx] = A[min_idx], A[i]\n",
        "# Setelah pengurutan selesai, cetak pesan bahwa array sudah terurut.\n",
        "print (\"Sorted array\")\n",
        "\n",
        "# Loop untuk mencetak setiap elemen dari array yang sudah diurutkan.\n",
        "for i in range(len(A)):\n",
        " print(\"%d\" %A[i],end=\" \")"
      ],
      "metadata": {
        "colab": {
          "base_uri": "https://localhost:8080/"
        },
        "id": "HW3CG_VHoVJu",
        "outputId": "6e25b25d-edd1-4954-9dee-e612ff3b38cb"
      },
      "execution_count": 8,
      "outputs": [
        {
          "output_type": "stream",
          "name": "stdout",
          "text": [
            "Sorted array\n",
            "25 35 45 55 75 "
          ]
        }
      ]
    },
    {
      "cell_type": "code",
      "source": [
        "# Fungsi untuk melakukan pengurutan menggunakan algoritma Insertion Sort.\n",
        "def insertionSort(arr):\n",
        "  # Loop dari elemen kedua hingga elemen terakhir dalam array.\n",
        "  for i in range(1, len(arr)):\n",
        "\n",
        "    # Mengambil elemen saat ini yang akan disisipkan ke dalam bagian yang sudah diurutkan.\n",
        "    key = arr[i]\n",
        "\n",
        "    # Menyimpan indeks dari elemen sebelumnya yang akan dibandingkan dengan key.\n",
        "    j = i-1\n",
        "\n",
        "  # Melakukan penyisipan elemen ke dalam bagian yang sudah diurutkan.\n",
        "  while j >= 0 and key < arr[j] :\n",
        "\n",
        "    # Memindahkan elemen yang lebih besar dari key ke posisi setelahnya.\n",
        "    arr[j + 1] = arr[j]\n",
        "\n",
        "    # Mengurangi indeks untuk membandingkan dengan elemen sebelumnya.\n",
        "    j -= 1\n",
        "\n",
        "  # Menyisipkan key ke posisi yang benar setelah iterasi while selesai.\n",
        "  arr[j + 1] = key"
      ],
      "metadata": {
        "id": "fBxiDU_So-1u"
      },
      "execution_count": 9,
      "outputs": []
    },
    {
      "cell_type": "code",
      "source": [
        "# Definisikan array yang akan diurutkan.\n",
        "arr = [21, 11, 15, 5, 9]\n",
        "\n",
        "# Panggil fungsi insertionSort untuk mengurutkan array.\n",
        "insertionSort(arr)\n",
        "\n",
        "# Loop untuk mencetak setiap elemen dari array yang sudah diurutkan.\n",
        "for i in range(len(arr)):\n",
        "\n",
        "  # Cetak setiap elemen dari array yang sudah diurutkan.\n",
        " print (\"% d\" % arr[i])"
      ],
      "metadata": {
        "colab": {
          "base_uri": "https://localhost:8080/"
        },
        "id": "0kGApRyZpaRF",
        "outputId": "10c69cf0-22d5-4ebc-d4d5-ef87a2ed4646"
      },
      "execution_count": 10,
      "outputs": [
        {
          "output_type": "stream",
          "name": "stdout",
          "text": [
            " 21\n",
            " 11\n",
            " 15\n",
            " 5\n",
            " 9\n"
          ]
        }
      ]
    }
  ]
}